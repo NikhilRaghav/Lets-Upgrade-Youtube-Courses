{
  "nbformat": 4,
  "nbformat_minor": 0,
  "metadata": {
    "colab": {
      "name": "LetsUpgrade Data Science Essentials FEB 2021 | Batch 1 - Assignment 1 solution .ipynb",
      "provenance": [],
      "collapsed_sections": []
    },
    "kernelspec": {
      "name": "python3",
      "display_name": "Python 3"
    }
  },
  "cells": [
    {
      "cell_type": "markdown",
      "metadata": {
        "id": "FiXHxTFiMMV5"
      },
      "source": [
        "# LetsUpgrade Data Science Essentials FEB 2021 | Batch 1 - Assignment\r\n",
        "\r\n",
        "## Nikhil R\r\n",
        "\r\n",
        "https://community.letsupgrade.in/post/data-science-essentials-feb-2021-batch-1-day-5-overview-6038bec07fadee0cd6456165"
      ]
    },
    {
      "cell_type": "markdown",
      "metadata": {
        "id": "IKSQ7HvkMTxO"
      },
      "source": [
        "## Question 1:\r\n",
        "Given the following jumbled word, OBANWRI guess the correct English word.\r\n",
        "\r\n",
        "* A. RANIBOW\r\n",
        "* B. RAINBOW\r\n",
        "* C. BOWRANI\r\n",
        "* D. ROBWANI\r\n",
        "\r\n",
        "**Answer : B. RAINBOW**\r\n",
        "\r\n"
      ]
    },
    {
      "cell_type": "markdown",
      "metadata": {
        "id": "x-FWdcZsNRVy"
      },
      "source": [
        "##Question 2:\r\n",
        "Write a program that prints “LETS UPGRADE”. (Please note that you have to print in ALL CAPS\r\n",
        "as given)"
      ]
    },
    {
      "cell_type": "code",
      "metadata": {
        "colab": {
          "base_uri": "https://localhost:8080/"
        },
        "id": "_QuEKIWJNskj",
        "outputId": "84746f34-7cd4-42f2-898f-52b8ffe4a115"
      },
      "source": [
        "print(\"LETS UPGRADE\")"
      ],
      "execution_count": 2,
      "outputs": [
        {
          "output_type": "stream",
          "text": [
            "LETS UPGRADE\n"
          ],
          "name": "stdout"
        }
      ]
    },
    {
      "cell_type": "markdown",
      "metadata": {
        "id": "tgxr9-DZN5I8"
      },
      "source": [
        "# Question 3:\r\n",
        "Write a program that takes cost price and selling price as input and\r\n",
        "displays whether the transaction is a Profit or a Loss or Neither.\r\n",
        "\r\n",
        "INPUT FORMAT\r\n",
        "* The first line contains the cost price.\r\n",
        "* The second line contains the selling price.\r\n",
        "\r\n",
        "OUTPUT FORMAT\r\n",
        "* Print \"Profit\" if the transaction is a profit or \"Loss\" if it is a loss. If it is neither\r\n",
        "* profit nor loss, print \"Neither\". (You must not have quotes in your output)\r\n",
        "\r\n",
        "\r\n",
        "NOTE:\r\n",
        "Please stick to the input and output format. Don't add anything extra like\r\n",
        "'Enter cost price', 'Enter selling price', etc."
      ]
    },
    {
      "cell_type": "code",
      "metadata": {
        "colab": {
          "base_uri": "https://localhost:8080/"
        },
        "id": "sPWbCPUaOTUw",
        "outputId": "ec76495d-76b8-4de2-c3d4-e6d06ebe6c36"
      },
      "source": [
        "cp=int(input())\r\n",
        "sp=int(input())\r\n",
        "if cp==sp:\r\n",
        "  print(\"Neither\")\r\n",
        "elif cp>sp:\r\n",
        "  print(\"Loss\")\r\n",
        "else:\r\n",
        "  print(\"Profit\")"
      ],
      "execution_count": 3,
      "outputs": [
        {
          "output_type": "stream",
          "text": [
            "70\n",
            "90\n",
            "Profit\n"
          ],
          "name": "stdout"
        }
      ]
    },
    {
      "cell_type": "markdown",
      "metadata": {
        "id": "1hhEVnN2OyBs"
      },
      "source": [
        "# Question 4:\r\n",
        "Write a program that takes an amount in Euros as input. You need to find its equivalent in\r\n",
        "Rupees and display it. Assume 1 Euro equals Rs. 80.\r\n",
        "\r\n",
        "Please note that you are expected to stick to the given input and output\r\n",
        "format as in sample test cases. Please don't add any extra lines such as\r\n",
        "'Enter a number’ etc.\r\n",
        "Your program should take only one number as input and display the output."
      ]
    },
    {
      "cell_type": "code",
      "metadata": {
        "colab": {
          "base_uri": "https://localhost:8080/"
        },
        "id": "__N5zgPiPLgs",
        "outputId": "29d386fa-2947-4d1f-b50e-2c18cf7a154e"
      },
      "source": [
        "print(int(input())*80)"
      ],
      "execution_count": 4,
      "outputs": [
        {
          "output_type": "stream",
          "text": [
            "50\n",
            "4000\n"
          ],
          "name": "stdout"
        }
      ]
    },
    {
      "cell_type": "markdown",
      "metadata": {
        "id": "2fnZ8xs3PQ77"
      },
      "source": [
        "# Question 5:\r\n",
        "Create an empty list. Accept 10 numbers from the user and append to it the list if it is an even\r\n",
        "number."
      ]
    },
    {
      "cell_type": "code",
      "metadata": {
        "colab": {
          "base_uri": "https://localhost:8080/"
        },
        "id": "Sk01sI0jPovq",
        "outputId": "17bf30c1-b399-40e4-9dc5-cb07def9db00"
      },
      "source": [
        "l=[]\r\n",
        "for i in range(10):\r\n",
        "  a=int(input())\r\n",
        "  if a%2==0:\r\n",
        "    l.append(a)\r\n",
        "print(l)  "
      ],
      "execution_count": 5,
      "outputs": [
        {
          "output_type": "stream",
          "text": [
            "10\n",
            "1\n",
            "3\n",
            "12\n",
            "1205\n",
            "4663\n",
            "023\n",
            "458\n",
            "1\n",
            "23\n",
            "[10, 12, 458]\n"
          ],
          "name": "stdout"
        }
      ]
    },
    {
      "cell_type": "markdown",
      "metadata": {
        "id": "5itOCA9zQM3-"
      },
      "source": [
        "# Question 6:\r\n",
        "Create a notebook on LIST COMPREHENSION. This exercise is to put you in a\r\n",
        "Self-learning mode"
      ]
    },
    {
      "cell_type": "code",
      "metadata": {
        "colab": {
          "base_uri": "https://localhost:8080/"
        },
        "id": "JPmn1hx4Qsj7",
        "outputId": "d1866099-98bf-47bf-ce9e-ca757f3ce39a"
      },
      "source": [
        "#Example program\r\n",
        "n=int(input())\r\n",
        "a=[i*i for i in range(n)]\r\n",
        "print(a)"
      ],
      "execution_count": 6,
      "outputs": [
        {
          "output_type": "stream",
          "text": [
            "78\n",
            "[0, 1, 4, 9, 16, 25, 36, 49, 64, 81, 100, 121, 144, 169, 196, 225, 256, 289, 324, 361, 400, 441, 484, 529, 576, 625, 676, 729, 784, 841, 900, 961, 1024, 1089, 1156, 1225, 1296, 1369, 1444, 1521, 1600, 1681, 1764, 1849, 1936, 2025, 2116, 2209, 2304, 2401, 2500, 2601, 2704, 2809, 2916, 3025, 3136, 3249, 3364, 3481, 3600, 3721, 3844, 3969, 4096, 4225, 4356, 4489, 4624, 4761, 4900, 5041, 5184, 5329, 5476, 5625, 5776, 5929]\n"
          ],
          "name": "stdout"
        }
      ]
    },
    {
      "cell_type": "markdown",
      "metadata": {
        "id": "i71DbdcGQ4iK"
      },
      "source": [
        "# Question 7:\r\n",
        "\r\n",
        "In this assignment, given a number n, you have to write a program that generates a dictionary d which contains (i, i*i), where i is from 1 to n (both included).\r\n",
        "Then you have to just print this dictionary d.\r\n",
        "\r\n",
        "Example:\r\n",
        "\r\n",
        "Input: 4 will give output as {1: 1, 2: 4, 3: 9, 4: 16}\r\n",
        "\r\n",
        "Input Format: Take the number n in a single line.\r\n",
        "Output Format: Print the dictionary d in a single line."
      ]
    },
    {
      "cell_type": "code",
      "metadata": {
        "colab": {
          "base_uri": "https://localhost:8080/"
        },
        "id": "P3PxDQ1rRNQr",
        "outputId": "0c985dce-1718-4532-b549-c76eedc18dc9"
      },
      "source": [
        "n=int(input())\r\n",
        "d=dict()\r\n",
        "for i in range(1,n+1):\r\n",
        "  d[i]=i*i\r\n",
        "print(d)"
      ],
      "execution_count": 7,
      "outputs": [
        {
          "output_type": "stream",
          "text": [
            "9\n",
            "{1: 1, 2: 4, 3: 9, 4: 16, 5: 25, 6: 36, 7: 49, 8: 64, 9: 81}\n"
          ],
          "name": "stdout"
        }
      ]
    },
    {
      "cell_type": "markdown",
      "metadata": {
        "id": "VWW6pWp6RUt0"
      },
      "source": [
        "# Questions 8:\r\n",
        "There is a robot that wants to go to the charging point to charge itself.\r\n",
        "The robot moves in a 2-D plane from the original point (0,0). The robot can\r\n",
        "move toward UP, DOWN, LEFT, and RIGHT with given steps.\r\n",
        "\r\n",
        "The trace of robot movement is shown as the following:\r\n",
        "\r\n",
        "UP 5\r\n",
        "\r\n",
        "DOWN 3\r\n",
        "\r\n",
        "LEFT 3\r\n",
        "\r\n",
        "RIGHT 2\r\n",
        "\r\n",
        "Then, the output of the program should be: 2\r\n",
        "\r\n",
        "The numbers after the direction are steps.\r\n",
        "\r\n",
        "Write a program to compute the distance between the current position after\r\n",
        "a sequence of movement and the original point. \r\n",
        "If the distance is float, then\r\n",
        "just print the nearest integer (use round() function for that and then convert\r\n",
        "it into an integer).\r\n",
        "\r\n",
        "Input Format:\r\n",
        "\r\n",
        "The first line of the input contains a number n which implies the number of\r\n",
        "directions to be given.\r\n",
        "The next n lines contain the direction and the step separated by a space.\r\n",
        "\r\n",
        "Output Format:\r\n",
        "\r\n",
        "Print the distance from the original position to the current position.\r\n",
        "\r\n",
        "Example:\r\n",
        "\r\n",
        "Input: \r\n",
        "4\r\n",
        "\r\n",
        "UP 5\r\n",
        "\r\n",
        "DOWN 3\r\n",
        "\r\n",
        "LEFT 3\r\n",
        "\r\n",
        "RIGHT 2\r\n",
        "\r\n",
        "Output: 2"
      ]
    },
    {
      "cell_type": "code",
      "metadata": {
        "colab": {
          "base_uri": "https://localhost:8080/"
        },
        "id": "i2Q7boYvSCqa",
        "outputId": "231b0369-e8b8-4b31-be2a-deae0435b228"
      },
      "source": [
        "import math\r\n",
        "from math import sqrt\r\n",
        "n=int(input(\"Enter the no of directions\"))\r\n",
        "start=[0,0]\r\n",
        "end=[0,0]\r\n",
        "for i in range(n):\r\n",
        "  direction,step=map(str,input().split())\r\n",
        "  step=int(step)\r\n",
        "  if direction == \"UP\":\r\n",
        "    start[0]-=step\r\n",
        "  elif direction == \"DOWN\":\r\n",
        "    start[0]+=step\r\n",
        "  if direction == \"LEFT\":\r\n",
        "    start[1]-=step\r\n",
        "  if direction == \"RIGHT\":\r\n",
        "    start[1]+=step\r\n",
        "\r\n",
        "d = math.sqrt((end[0]-start[0])**2 + (end[1]-start[1])**2)\r\n",
        "\r\n",
        "print(int(d))"
      ],
      "execution_count": 13,
      "outputs": [
        {
          "output_type": "stream",
          "text": [
            "Enter the no of directions4\n",
            "UP 5\n",
            "DOWN 3\n",
            "LEFT 3\n",
            "RIGHT 2\n",
            "2\n"
          ],
          "name": "stdout"
        }
      ]
    },
    {
      "cell_type": "markdown",
      "metadata": {
        "id": "Zk8IrN91UabB"
      },
      "source": [
        "## IMPORTING NUMPY"
      ]
    },
    {
      "cell_type": "code",
      "metadata": {
        "id": "2_o9ZH_QUqL4"
      },
      "source": [
        "import numpy as np\r\n"
      ],
      "execution_count": 14,
      "outputs": []
    },
    {
      "cell_type": "markdown",
      "metadata": {
        "id": "LD91RA8IUuQZ"
      },
      "source": [
        "## Questions 9:\r\n",
        "Create a NumPy array starting from 2 till 50 with a step size of 3."
      ]
    },
    {
      "cell_type": "code",
      "metadata": {
        "colab": {
          "base_uri": "https://localhost:8080/"
        },
        "id": "SSrajT9HVx-r",
        "outputId": "70313ab4-2d38-4b28-823e-966a9b5dfb05"
      },
      "source": [
        "a=np.arange(2,51,3)\r\n",
        "print(a)"
      ],
      "execution_count": 17,
      "outputs": [
        {
          "output_type": "stream",
          "text": [
            "[ 2  5  8 11 14 17 20 23 26 29 32 35 38 41 44 47 50]\n"
          ],
          "name": "stdout"
        }
      ]
    },
    {
      "cell_type": "markdown",
      "metadata": {
        "id": "csWDcsxGWJZT"
      },
      "source": [
        "#Questions 10:\r\n",
        "Accept two lists of 5 elements each from the user.\r\n",
        "Convert them to NumPy arrays. Concatenate these arrays and print them. Also, sort these arrays\r\n",
        "and print them."
      ]
    },
    {
      "cell_type": "code",
      "metadata": {
        "colab": {
          "base_uri": "https://localhost:8080/"
        },
        "id": "zav5NdhbWUIz",
        "outputId": "7961855d-95df-4b86-8c56-236321e04653"
      },
      "source": [
        "a=list(map(int,input().split()))\r\n",
        "b=list(map(int,input().split()))\r\n",
        "p=np.array(a)\r\n",
        "q=np.array(b)\r\n",
        "c=p+q\r\n",
        "print(c)\r\n",
        "c.sort()\r\n",
        "print(\"After sorting : \")\r\n",
        "print(c)"
      ],
      "execution_count": 20,
      "outputs": [
        {
          "output_type": "stream",
          "text": [
            "1 2 3 4 5\n",
            "11 89 34 87 99\n",
            "[ 12  91  37  91 104]\n",
            "After sorting : \n",
            "[ 12  37  91  91 104]\n"
          ],
          "name": "stdout"
        }
      ]
    },
    {
      "cell_type": "markdown",
      "metadata": {
        "id": "URUtBJVKXSO2"
      },
      "source": [
        "##Questions 11:\r\n",
        "Write a code snippet to find the dimensions of a ndarray and its size.\r\n"
      ]
    },
    {
      "cell_type": "code",
      "metadata": {
        "colab": {
          "base_uri": "https://localhost:8080/"
        },
        "id": "wZLXFJAsXVc6",
        "outputId": "c915c346-ce1b-49fa-d084-23a93ebe2dd1"
      },
      "source": [
        "a=[ [10,11,12],[13,14,15],[16,17,18] ]\r\n",
        "ap=np.array(a)\r\n",
        "print(\"Dimension of \\n{} is {}\".format(ap,np.ndim(ap)))\r\n",
        "print(\"Size of \\n{} is {}\".format(ap,np.size(ap)))"
      ],
      "execution_count": 26,
      "outputs": [
        {
          "output_type": "stream",
          "text": [
            "Dimension of \n",
            "[[10 11 12]\n",
            " [13 14 15]\n",
            " [16 17 18]] is 2\n",
            "Size of \n",
            "[[10 11 12]\n",
            " [13 14 15]\n",
            " [16 17 18]] is 9\n"
          ],
          "name": "stdout"
        }
      ]
    },
    {
      "cell_type": "markdown",
      "metadata": {
        "id": "lLQS02fhYLlu"
      },
      "source": [
        "##Questions 12:\r\n",
        "How to convert a 1D array into a 2D array? Demonstrate with the help of a code snippet\r\n",
        "Hint: np.newaxis, np.expand_dims"
      ]
    },
    {
      "cell_type": "code",
      "metadata": {
        "colab": {
          "base_uri": "https://localhost:8080/"
        },
        "id": "-KFyjb2NYma6",
        "outputId": "261cc2ac-8201-4aa2-876b-5109d38b2c3b"
      },
      "source": [
        "d1=np.arange(10)\r\n",
        "#using reshape method\r\n",
        "d2=d1.reshape(5,2)\r\n",
        "print(d2)\r\n",
        "#using newaxis method \r\n",
        "#https://numpy.org/doc/stable/reference/constants.html#numpy.newaxis\r\n",
        "d3 = d1[:, np.newaxis]\r\n",
        "print(d3)\r\n",
        "#using y = np.expand_dims(x, axis=0)\r\n",
        "#https://numpy.org/doc/stable/reference/generated/numpy.expand_dims.html\r\n",
        "y= np.expand_dims(d1,axis=(1,0))\r\n",
        "print(y)\r\n",
        "\r\n"
      ],
      "execution_count": 46,
      "outputs": [
        {
          "output_type": "stream",
          "text": [
            "[[0 1]\n",
            " [2 3]\n",
            " [4 5]\n",
            " [6 7]\n",
            " [8 9]]\n",
            "[[0]\n",
            " [1]\n",
            " [2]\n",
            " [3]\n",
            " [4]\n",
            " [5]\n",
            " [6]\n",
            " [7]\n",
            " [8]\n",
            " [9]]\n",
            "[[[0 1 2 3 4 5 6 7 8 9]]]\n"
          ],
          "name": "stdout"
        }
      ]
    },
    {
      "cell_type": "markdown",
      "metadata": {
        "id": "-NQv1b76YRFq"
      },
      "source": [
        "##Questions 13:\r\n",
        "Consider two square NumPy arrays. Stack them vertically and horizontally.\r\n",
        "Hint: Use vstack(), hstack()"
      ]
    },
    {
      "cell_type": "code",
      "metadata": {
        "colab": {
          "base_uri": "https://localhost:8080/"
        },
        "id": "hk-5Z_sMbbSK",
        "outputId": "8fc6ca8a-58e4-4b9b-d762-d9627d5b9018"
      },
      "source": [
        "p=np.arange(25).reshape(5,5)\r\n",
        "q=np.arange(25,50).reshape(5,5)\r\n",
        "print(p)\r\n",
        "print(q)\r\n",
        "\r\n",
        "stacked_vertical = np.vstack((p,q))\r\n",
        "print(stacked_vertical)\r\n",
        "stacked_horizontal = np.hstack((p,q))\r\n",
        "print(stacked_horizontal)"
      ],
      "execution_count": 50,
      "outputs": [
        {
          "output_type": "stream",
          "text": [
            "[[ 0  1  2  3  4]\n",
            " [ 5  6  7  8  9]\n",
            " [10 11 12 13 14]\n",
            " [15 16 17 18 19]\n",
            " [20 21 22 23 24]]\n",
            "[[25 26 27 28 29]\n",
            " [30 31 32 33 34]\n",
            " [35 36 37 38 39]\n",
            " [40 41 42 43 44]\n",
            " [45 46 47 48 49]]\n",
            "[[ 0  1  2  3  4]\n",
            " [ 5  6  7  8  9]\n",
            " [10 11 12 13 14]\n",
            " [15 16 17 18 19]\n",
            " [20 21 22 23 24]\n",
            " [25 26 27 28 29]\n",
            " [30 31 32 33 34]\n",
            " [35 36 37 38 39]\n",
            " [40 41 42 43 44]\n",
            " [45 46 47 48 49]]\n",
            "[[ 0  1  2  3  4 25 26 27 28 29]\n",
            " [ 5  6  7  8  9 30 31 32 33 34]\n",
            " [10 11 12 13 14 35 36 37 38 39]\n",
            " [15 16 17 18 19 40 41 42 43 44]\n",
            " [20 21 22 23 24 45 46 47 48 49]]\n"
          ],
          "name": "stdout"
        }
      ]
    },
    {
      "cell_type": "markdown",
      "metadata": {
        "id": "Cga5lNKvYRXO"
      },
      "source": [
        "##Questions 14:\r\n",
        "How to get unique items and counts of unique items?"
      ]
    },
    {
      "cell_type": "code",
      "metadata": {
        "colab": {
          "base_uri": "https://localhost:8080/"
        },
        "id": "XONKHYxbeXox",
        "outputId": "801c794a-1382-42d4-ebfb-77cafb02aec1"
      },
      "source": [
        "print(\"Just normal python \\n\")\r\n",
        "a=list(range(10))\r\n",
        "a+=[1,1,14,5,56,77,7,7,9,9,6,6,3]\r\n",
        "print(\"original list \\n\\t\",a)\r\n",
        "u=set(a)\r\n",
        "print(\" Unique Values \\n\\t{} \\n Count of Unique Values is {} \\n\\n\".format(u,len(u)))\r\n",
        "\r\n",
        "print(\"Using Numpy \\n\")\r\n",
        "#https://numpy.org/doc/stable/reference/generated/numpy.unique.html\r\n",
        "#https://thispointer.com/python-find-unique-values-in-a-numpy-array-with-frequency-indices-numpy-unique/\r\n",
        "q=np.array(a)\r\n",
        "print(\"Original Numpy Array is \\n\\t\",q)\r\n",
        "k=np.unique(q)\r\n",
        "print(\" Unique Values \\n\\t{} \\n Count of Unique Values is {} \\n\\n\".format(k,len(k)))"
      ],
      "execution_count": 65,
      "outputs": [
        {
          "output_type": "stream",
          "text": [
            "Just normal python \n",
            "\n",
            "original list \n",
            "\t [0, 1, 2, 3, 4, 5, 6, 7, 8, 9, 1, 1, 14, 5, 56, 77, 7, 7, 9, 9, 6, 6, 3]\n",
            " Unique Values \n",
            "\t{0, 1, 2, 3, 4, 5, 6, 7, 8, 9, 77, 14, 56} \n",
            " Count of Unique Values is 13 \n",
            "\n",
            "\n",
            "Using Numpy \n",
            "\n",
            "Original Numpy Array is \n",
            "\t [ 0  1  2  3  4  5  6  7  8  9  1  1 14  5 56 77  7  7  9  9  6  6  3]\n",
            " Unique Values \n",
            "\t[ 0  1  2  3  4  5  6  7  8  9 14 56 77] \n",
            " Count of Unique Values is 13 \n",
            "\n",
            "\n"
          ],
          "name": "stdout"
        }
      ]
    },
    {
      "cell_type": "code",
      "metadata": {
        "id": "ymrkoGRSfj-p"
      },
      "source": [
        ""
      ],
      "execution_count": null,
      "outputs": []
    }
  ]
}